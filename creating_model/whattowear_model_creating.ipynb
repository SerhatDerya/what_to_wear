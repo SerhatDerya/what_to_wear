{
 "cells": [
  {
   "cell_type": "code",
   "execution_count": 3,
   "id": "4a40d8a2-c16e-4c2b-9a8a-ff5e3a6391f8",
   "metadata": {},
   "outputs": [],
   "source": [
    "import pandas as pd\n",
    "import numpy as np"
   ]
  },
  {
   "cell_type": "code",
   "execution_count": 23,
   "id": "1fef441a-6c81-4ef7-a019-1bc47f017a9b",
   "metadata": {},
   "outputs": [
    {
     "data": {
      "text/html": [
       "<div>\n",
       "<style scoped>\n",
       "    .dataframe tbody tr th:only-of-type {\n",
       "        vertical-align: middle;\n",
       "    }\n",
       "\n",
       "    .dataframe tbody tr th {\n",
       "        vertical-align: top;\n",
       "    }\n",
       "\n",
       "    .dataframe thead th {\n",
       "        text-align: right;\n",
       "    }\n",
       "</style>\n",
       "<table border=\"1\" class=\"dataframe\">\n",
       "  <thead>\n",
       "    <tr style=\"text-align: right;\">\n",
       "      <th></th>\n",
       "      <th>Unnamed: 0</th>\n",
       "      <th>time</th>\n",
       "      <th>temperature_2m_max (°C)</th>\n",
       "      <th>apparent_temperature_max (°C)</th>\n",
       "      <th>precipitation_sum (mm)</th>\n",
       "      <th>rain_sum (mm)</th>\n",
       "      <th>snowfall_sum (cm)</th>\n",
       "      <th>res</th>\n",
       "    </tr>\n",
       "  </thead>\n",
       "  <tbody>\n",
       "    <tr>\n",
       "      <th>0</th>\n",
       "      <td>0</td>\n",
       "      <td>2022-03-06</td>\n",
       "      <td>7.5</td>\n",
       "      <td>1.9</td>\n",
       "      <td>3.5</td>\n",
       "      <td>3.5</td>\n",
       "      <td>0.0</td>\n",
       "      <td>NaN</td>\n",
       "    </tr>\n",
       "    <tr>\n",
       "      <th>1</th>\n",
       "      <td>1</td>\n",
       "      <td>2022-03-07</td>\n",
       "      <td>6.8</td>\n",
       "      <td>1.2</td>\n",
       "      <td>4.1</td>\n",
       "      <td>4.1</td>\n",
       "      <td>0.0</td>\n",
       "      <td>NaN</td>\n",
       "    </tr>\n",
       "    <tr>\n",
       "      <th>2</th>\n",
       "      <td>2</td>\n",
       "      <td>2022-03-08</td>\n",
       "      <td>5.8</td>\n",
       "      <td>1.2</td>\n",
       "      <td>2.5</td>\n",
       "      <td>2.5</td>\n",
       "      <td>0.0</td>\n",
       "      <td>NaN</td>\n",
       "    </tr>\n",
       "    <tr>\n",
       "      <th>3</th>\n",
       "      <td>3</td>\n",
       "      <td>2022-03-09</td>\n",
       "      <td>5.7</td>\n",
       "      <td>-0.1</td>\n",
       "      <td>1.1</td>\n",
       "      <td>1.1</td>\n",
       "      <td>0.0</td>\n",
       "      <td>NaN</td>\n",
       "    </tr>\n",
       "    <tr>\n",
       "      <th>4</th>\n",
       "      <td>4</td>\n",
       "      <td>2022-03-10</td>\n",
       "      <td>3.0</td>\n",
       "      <td>-2.9</td>\n",
       "      <td>7.5</td>\n",
       "      <td>1.5</td>\n",
       "      <td>4.2</td>\n",
       "      <td>NaN</td>\n",
       "    </tr>\n",
       "    <tr>\n",
       "      <th>...</th>\n",
       "      <td>...</td>\n",
       "      <td>...</td>\n",
       "      <td>...</td>\n",
       "      <td>...</td>\n",
       "      <td>...</td>\n",
       "      <td>...</td>\n",
       "      <td>...</td>\n",
       "      <td>...</td>\n",
       "    </tr>\n",
       "    <tr>\n",
       "      <th>361</th>\n",
       "      <td>361</td>\n",
       "      <td>2023-03-02</td>\n",
       "      <td>8.2</td>\n",
       "      <td>3.5</td>\n",
       "      <td>0.8</td>\n",
       "      <td>0.8</td>\n",
       "      <td>0.0</td>\n",
       "      <td>NaN</td>\n",
       "    </tr>\n",
       "    <tr>\n",
       "      <th>362</th>\n",
       "      <td>362</td>\n",
       "      <td>2023-03-03</td>\n",
       "      <td>9.3</td>\n",
       "      <td>5.9</td>\n",
       "      <td>0.2</td>\n",
       "      <td>0.2</td>\n",
       "      <td>0.0</td>\n",
       "      <td>NaN</td>\n",
       "    </tr>\n",
       "    <tr>\n",
       "      <th>363</th>\n",
       "      <td>363</td>\n",
       "      <td>2023-03-04</td>\n",
       "      <td>11.4</td>\n",
       "      <td>8.8</td>\n",
       "      <td>1.5</td>\n",
       "      <td>1.5</td>\n",
       "      <td>0.0</td>\n",
       "      <td>NaN</td>\n",
       "    </tr>\n",
       "    <tr>\n",
       "      <th>364</th>\n",
       "      <td>364</td>\n",
       "      <td>2023-03-05</td>\n",
       "      <td>6.9</td>\n",
       "      <td>6.1</td>\n",
       "      <td>NaN</td>\n",
       "      <td>NaN</td>\n",
       "      <td>NaN</td>\n",
       "      <td>NaN</td>\n",
       "    </tr>\n",
       "    <tr>\n",
       "      <th>365</th>\n",
       "      <td>365</td>\n",
       "      <td>2023-03-06</td>\n",
       "      <td>NaN</td>\n",
       "      <td>NaN</td>\n",
       "      <td>NaN</td>\n",
       "      <td>NaN</td>\n",
       "      <td>NaN</td>\n",
       "      <td>NaN</td>\n",
       "    </tr>\n",
       "  </tbody>\n",
       "</table>\n",
       "<p>366 rows × 8 columns</p>\n",
       "</div>"
      ],
      "text/plain": [
       "     Unnamed: 0       time  temperature_2m_max (°C)  \\\n",
       "0             0 2022-03-06                      7.5   \n",
       "1             1 2022-03-07                      6.8   \n",
       "2             2 2022-03-08                      5.8   \n",
       "3             3 2022-03-09                      5.7   \n",
       "4             4 2022-03-10                      3.0   \n",
       "..          ...        ...                      ...   \n",
       "361         361 2023-03-02                      8.2   \n",
       "362         362 2023-03-03                      9.3   \n",
       "363         363 2023-03-04                     11.4   \n",
       "364         364 2023-03-05                      6.9   \n",
       "365         365 2023-03-06                      NaN   \n",
       "\n",
       "     apparent_temperature_max (°C)  precipitation_sum (mm)  rain_sum (mm)  \\\n",
       "0                              1.9                     3.5            3.5   \n",
       "1                              1.2                     4.1            4.1   \n",
       "2                              1.2                     2.5            2.5   \n",
       "3                             -0.1                     1.1            1.1   \n",
       "4                             -2.9                     7.5            1.5   \n",
       "..                             ...                     ...            ...   \n",
       "361                            3.5                     0.8            0.8   \n",
       "362                            5.9                     0.2            0.2   \n",
       "363                            8.8                     1.5            1.5   \n",
       "364                            6.1                     NaN            NaN   \n",
       "365                            NaN                     NaN            NaN   \n",
       "\n",
       "     snowfall_sum (cm)  res  \n",
       "0                  0.0  NaN  \n",
       "1                  0.0  NaN  \n",
       "2                  0.0  NaN  \n",
       "3                  0.0  NaN  \n",
       "4                  4.2  NaN  \n",
       "..                 ...  ...  \n",
       "361                0.0  NaN  \n",
       "362                0.0  NaN  \n",
       "363                0.0  NaN  \n",
       "364                NaN  NaN  \n",
       "365                NaN  NaN  \n",
       "\n",
       "[366 rows x 8 columns]"
      ]
     },
     "execution_count": 23,
     "metadata": {},
     "output_type": "execute_result"
    }
   ],
   "source": [
    "df = pd.read_excel(\"hava_durumu.xlsx\")\n",
    "df"
   ]
  },
  {
   "cell_type": "code",
   "execution_count": 29,
   "id": "26c08470-8877-4420-8cb7-19baffd34771",
   "metadata": {},
   "outputs": [],
   "source": [
    "df=df.drop([\"time\",\"Unnamed: 0\"], axis=1)"
   ]
  },
  {
   "cell_type": "code",
   "execution_count": 30,
   "id": "591b5132-f0c7-4413-83c5-b2a513067dfa",
   "metadata": {},
   "outputs": [
    {
     "data": {
      "text/html": [
       "<div>\n",
       "<style scoped>\n",
       "    .dataframe tbody tr th:only-of-type {\n",
       "        vertical-align: middle;\n",
       "    }\n",
       "\n",
       "    .dataframe tbody tr th {\n",
       "        vertical-align: top;\n",
       "    }\n",
       "\n",
       "    .dataframe thead th {\n",
       "        text-align: right;\n",
       "    }\n",
       "</style>\n",
       "<table border=\"1\" class=\"dataframe\">\n",
       "  <thead>\n",
       "    <tr style=\"text-align: right;\">\n",
       "      <th></th>\n",
       "      <th>temperature_2m_max (°C)</th>\n",
       "      <th>apparent_temperature_max (°C)</th>\n",
       "      <th>precipitation_sum (mm)</th>\n",
       "      <th>rain_sum (mm)</th>\n",
       "      <th>snowfall_sum (cm)</th>\n",
       "      <th>res</th>\n",
       "    </tr>\n",
       "  </thead>\n",
       "  <tbody>\n",
       "    <tr>\n",
       "      <th>0</th>\n",
       "      <td>7.5</td>\n",
       "      <td>1.9</td>\n",
       "      <td>3.5</td>\n",
       "      <td>3.5</td>\n",
       "      <td>0.0</td>\n",
       "      <td>NaN</td>\n",
       "    </tr>\n",
       "    <tr>\n",
       "      <th>1</th>\n",
       "      <td>6.8</td>\n",
       "      <td>1.2</td>\n",
       "      <td>4.1</td>\n",
       "      <td>4.1</td>\n",
       "      <td>0.0</td>\n",
       "      <td>NaN</td>\n",
       "    </tr>\n",
       "    <tr>\n",
       "      <th>2</th>\n",
       "      <td>5.8</td>\n",
       "      <td>1.2</td>\n",
       "      <td>2.5</td>\n",
       "      <td>2.5</td>\n",
       "      <td>0.0</td>\n",
       "      <td>NaN</td>\n",
       "    </tr>\n",
       "    <tr>\n",
       "      <th>3</th>\n",
       "      <td>5.7</td>\n",
       "      <td>-0.1</td>\n",
       "      <td>1.1</td>\n",
       "      <td>1.1</td>\n",
       "      <td>0.0</td>\n",
       "      <td>NaN</td>\n",
       "    </tr>\n",
       "    <tr>\n",
       "      <th>4</th>\n",
       "      <td>3.0</td>\n",
       "      <td>-2.9</td>\n",
       "      <td>7.5</td>\n",
       "      <td>1.5</td>\n",
       "      <td>4.2</td>\n",
       "      <td>NaN</td>\n",
       "    </tr>\n",
       "    <tr>\n",
       "      <th>...</th>\n",
       "      <td>...</td>\n",
       "      <td>...</td>\n",
       "      <td>...</td>\n",
       "      <td>...</td>\n",
       "      <td>...</td>\n",
       "      <td>...</td>\n",
       "    </tr>\n",
       "    <tr>\n",
       "      <th>361</th>\n",
       "      <td>8.2</td>\n",
       "      <td>3.5</td>\n",
       "      <td>0.8</td>\n",
       "      <td>0.8</td>\n",
       "      <td>0.0</td>\n",
       "      <td>NaN</td>\n",
       "    </tr>\n",
       "    <tr>\n",
       "      <th>362</th>\n",
       "      <td>9.3</td>\n",
       "      <td>5.9</td>\n",
       "      <td>0.2</td>\n",
       "      <td>0.2</td>\n",
       "      <td>0.0</td>\n",
       "      <td>NaN</td>\n",
       "    </tr>\n",
       "    <tr>\n",
       "      <th>363</th>\n",
       "      <td>11.4</td>\n",
       "      <td>8.8</td>\n",
       "      <td>1.5</td>\n",
       "      <td>1.5</td>\n",
       "      <td>0.0</td>\n",
       "      <td>NaN</td>\n",
       "    </tr>\n",
       "    <tr>\n",
       "      <th>364</th>\n",
       "      <td>6.9</td>\n",
       "      <td>6.1</td>\n",
       "      <td>NaN</td>\n",
       "      <td>NaN</td>\n",
       "      <td>NaN</td>\n",
       "      <td>NaN</td>\n",
       "    </tr>\n",
       "    <tr>\n",
       "      <th>365</th>\n",
       "      <td>NaN</td>\n",
       "      <td>NaN</td>\n",
       "      <td>NaN</td>\n",
       "      <td>NaN</td>\n",
       "      <td>NaN</td>\n",
       "      <td>NaN</td>\n",
       "    </tr>\n",
       "  </tbody>\n",
       "</table>\n",
       "<p>366 rows × 6 columns</p>\n",
       "</div>"
      ],
      "text/plain": [
       "     temperature_2m_max (°C)  apparent_temperature_max (°C)  \\\n",
       "0                        7.5                            1.9   \n",
       "1                        6.8                            1.2   \n",
       "2                        5.8                            1.2   \n",
       "3                        5.7                           -0.1   \n",
       "4                        3.0                           -2.9   \n",
       "..                       ...                            ...   \n",
       "361                      8.2                            3.5   \n",
       "362                      9.3                            5.9   \n",
       "363                     11.4                            8.8   \n",
       "364                      6.9                            6.1   \n",
       "365                      NaN                            NaN   \n",
       "\n",
       "     precipitation_sum (mm)  rain_sum (mm)  snowfall_sum (cm)  res  \n",
       "0                       3.5            3.5                0.0  NaN  \n",
       "1                       4.1            4.1                0.0  NaN  \n",
       "2                       2.5            2.5                0.0  NaN  \n",
       "3                       1.1            1.1                0.0  NaN  \n",
       "4                       7.5            1.5                4.2  NaN  \n",
       "..                      ...            ...                ...  ...  \n",
       "361                     0.8            0.8                0.0  NaN  \n",
       "362                     0.2            0.2                0.0  NaN  \n",
       "363                     1.5            1.5                0.0  NaN  \n",
       "364                     NaN            NaN                NaN  NaN  \n",
       "365                     NaN            NaN                NaN  NaN  \n",
       "\n",
       "[366 rows x 6 columns]"
      ]
     },
     "execution_count": 30,
     "metadata": {},
     "output_type": "execute_result"
    }
   ],
   "source": [
    "df"
   ]
  },
  {
   "cell_type": "code",
   "execution_count": 46,
   "id": "2826eb8d-f74f-4133-a451-aab4eebb4177",
   "metadata": {},
   "outputs": [],
   "source": [
    "for i, row in df.iterrows():\n",
    "    if row[\"temperature_2m_max (°C)\"]<=5:\n",
    "        row[\"res\"]=5\n",
    "    elif row[\"temperature_2m_max (°C)\"]<=10:\n",
    "        row[\"res\"]=4\n",
    "    elif row[\"temperature_2m_max (°C)\"]<=15:\n",
    "        row[\"res\"]=3\n",
    "    elif row[\"temperature_2m_max (°C)\"]<=20:\n",
    "        if row[\"precipitation_sum (mm)\"]>1:\n",
    "            row[\"res\"]=3\n",
    "        else:\n",
    "            row[\"res\"]=2\n",
    "    else:\n",
    "        if row[\"precipitation_sum (mm)\"]>1:\n",
    "            row[\"res\"]=3\n",
    "        else:\n",
    "            row[\"res\"]=1\n",
    "        "
   ]
  },
  {
   "cell_type": "code",
   "execution_count": 47,
   "id": "b8ff7f0d-0fb0-4b36-9dfa-7298450e5b1e",
   "metadata": {},
   "outputs": [
    {
     "data": {
      "text/html": [
       "<div>\n",
       "<style scoped>\n",
       "    .dataframe tbody tr th:only-of-type {\n",
       "        vertical-align: middle;\n",
       "    }\n",
       "\n",
       "    .dataframe tbody tr th {\n",
       "        vertical-align: top;\n",
       "    }\n",
       "\n",
       "    .dataframe thead th {\n",
       "        text-align: right;\n",
       "    }\n",
       "</style>\n",
       "<table border=\"1\" class=\"dataframe\">\n",
       "  <thead>\n",
       "    <tr style=\"text-align: right;\">\n",
       "      <th></th>\n",
       "      <th>temperature_2m_max (°C)</th>\n",
       "      <th>apparent_temperature_max (°C)</th>\n",
       "      <th>precipitation_sum (mm)</th>\n",
       "      <th>rain_sum (mm)</th>\n",
       "      <th>snowfall_sum (cm)</th>\n",
       "      <th>res</th>\n",
       "    </tr>\n",
       "  </thead>\n",
       "  <tbody>\n",
       "    <tr>\n",
       "      <th>0</th>\n",
       "      <td>7.5</td>\n",
       "      <td>1.9</td>\n",
       "      <td>3.5</td>\n",
       "      <td>3.5</td>\n",
       "      <td>0.0</td>\n",
       "      <td>4.0</td>\n",
       "    </tr>\n",
       "    <tr>\n",
       "      <th>1</th>\n",
       "      <td>6.8</td>\n",
       "      <td>1.2</td>\n",
       "      <td>4.1</td>\n",
       "      <td>4.1</td>\n",
       "      <td>0.0</td>\n",
       "      <td>4.0</td>\n",
       "    </tr>\n",
       "    <tr>\n",
       "      <th>2</th>\n",
       "      <td>5.8</td>\n",
       "      <td>1.2</td>\n",
       "      <td>2.5</td>\n",
       "      <td>2.5</td>\n",
       "      <td>0.0</td>\n",
       "      <td>4.0</td>\n",
       "    </tr>\n",
       "    <tr>\n",
       "      <th>3</th>\n",
       "      <td>5.7</td>\n",
       "      <td>-0.1</td>\n",
       "      <td>1.1</td>\n",
       "      <td>1.1</td>\n",
       "      <td>0.0</td>\n",
       "      <td>4.0</td>\n",
       "    </tr>\n",
       "    <tr>\n",
       "      <th>4</th>\n",
       "      <td>3.0</td>\n",
       "      <td>-2.9</td>\n",
       "      <td>7.5</td>\n",
       "      <td>1.5</td>\n",
       "      <td>4.2</td>\n",
       "      <td>5.0</td>\n",
       "    </tr>\n",
       "    <tr>\n",
       "      <th>...</th>\n",
       "      <td>...</td>\n",
       "      <td>...</td>\n",
       "      <td>...</td>\n",
       "      <td>...</td>\n",
       "      <td>...</td>\n",
       "      <td>...</td>\n",
       "    </tr>\n",
       "    <tr>\n",
       "      <th>361</th>\n",
       "      <td>8.2</td>\n",
       "      <td>3.5</td>\n",
       "      <td>0.8</td>\n",
       "      <td>0.8</td>\n",
       "      <td>0.0</td>\n",
       "      <td>4.0</td>\n",
       "    </tr>\n",
       "    <tr>\n",
       "      <th>362</th>\n",
       "      <td>9.3</td>\n",
       "      <td>5.9</td>\n",
       "      <td>0.2</td>\n",
       "      <td>0.2</td>\n",
       "      <td>0.0</td>\n",
       "      <td>4.0</td>\n",
       "    </tr>\n",
       "    <tr>\n",
       "      <th>363</th>\n",
       "      <td>11.4</td>\n",
       "      <td>8.8</td>\n",
       "      <td>1.5</td>\n",
       "      <td>1.5</td>\n",
       "      <td>0.0</td>\n",
       "      <td>3.0</td>\n",
       "    </tr>\n",
       "    <tr>\n",
       "      <th>364</th>\n",
       "      <td>6.9</td>\n",
       "      <td>6.1</td>\n",
       "      <td>NaN</td>\n",
       "      <td>NaN</td>\n",
       "      <td>NaN</td>\n",
       "      <td>4.0</td>\n",
       "    </tr>\n",
       "    <tr>\n",
       "      <th>365</th>\n",
       "      <td>NaN</td>\n",
       "      <td>NaN</td>\n",
       "      <td>NaN</td>\n",
       "      <td>NaN</td>\n",
       "      <td>NaN</td>\n",
       "      <td>1.0</td>\n",
       "    </tr>\n",
       "  </tbody>\n",
       "</table>\n",
       "<p>366 rows × 6 columns</p>\n",
       "</div>"
      ],
      "text/plain": [
       "     temperature_2m_max (°C)  apparent_temperature_max (°C)  \\\n",
       "0                        7.5                            1.9   \n",
       "1                        6.8                            1.2   \n",
       "2                        5.8                            1.2   \n",
       "3                        5.7                           -0.1   \n",
       "4                        3.0                           -2.9   \n",
       "..                       ...                            ...   \n",
       "361                      8.2                            3.5   \n",
       "362                      9.3                            5.9   \n",
       "363                     11.4                            8.8   \n",
       "364                      6.9                            6.1   \n",
       "365                      NaN                            NaN   \n",
       "\n",
       "     precipitation_sum (mm)  rain_sum (mm)  snowfall_sum (cm)  res  \n",
       "0                       3.5            3.5                0.0  4.0  \n",
       "1                       4.1            4.1                0.0  4.0  \n",
       "2                       2.5            2.5                0.0  4.0  \n",
       "3                       1.1            1.1                0.0  4.0  \n",
       "4                       7.5            1.5                4.2  5.0  \n",
       "..                      ...            ...                ...  ...  \n",
       "361                     0.8            0.8                0.0  4.0  \n",
       "362                     0.2            0.2                0.0  4.0  \n",
       "363                     1.5            1.5                0.0  3.0  \n",
       "364                     NaN            NaN                NaN  4.0  \n",
       "365                     NaN            NaN                NaN  1.0  \n",
       "\n",
       "[366 rows x 6 columns]"
      ]
     },
     "execution_count": 47,
     "metadata": {},
     "output_type": "execute_result"
    }
   ],
   "source": [
    "df"
   ]
  },
  {
   "cell_type": "code",
   "execution_count": 51,
   "id": "7b25dec8-45c6-4b78-a3c9-6318ae6630e7",
   "metadata": {},
   "outputs": [],
   "source": [
    "df = df.drop([\"apparent_temperature_max (°C)\",\"rain_sum (mm)\",\"snowfall_sum (cm)\"], axis=1)"
   ]
  },
  {
   "cell_type": "code",
   "execution_count": 52,
   "id": "27607b66-56b1-455b-9adb-3c216c40321a",
   "metadata": {},
   "outputs": [],
   "source": [
    "df.to_excel(\"havadurum_son.xlsx\")"
   ]
  },
  {
   "cell_type": "code",
   "execution_count": 83,
   "id": "2efcc851-9f57-4b1d-8f86-ea22c88cc01e",
   "metadata": {},
   "outputs": [
    {
     "data": {
      "text/html": [
       "<div>\n",
       "<style scoped>\n",
       "    .dataframe tbody tr th:only-of-type {\n",
       "        vertical-align: middle;\n",
       "    }\n",
       "\n",
       "    .dataframe tbody tr th {\n",
       "        vertical-align: top;\n",
       "    }\n",
       "\n",
       "    .dataframe thead th {\n",
       "        text-align: right;\n",
       "    }\n",
       "</style>\n",
       "<table border=\"1\" class=\"dataframe\">\n",
       "  <thead>\n",
       "    <tr style=\"text-align: right;\">\n",
       "      <th></th>\n",
       "      <th>temperature_2m_max (°C)</th>\n",
       "      <th>precipitation_sum (mm)</th>\n",
       "      <th>res</th>\n",
       "    </tr>\n",
       "  </thead>\n",
       "  <tbody>\n",
       "    <tr>\n",
       "      <th>0</th>\n",
       "      <td>7.5</td>\n",
       "      <td>3.5</td>\n",
       "      <td>4.0</td>\n",
       "    </tr>\n",
       "    <tr>\n",
       "      <th>1</th>\n",
       "      <td>6.8</td>\n",
       "      <td>4.1</td>\n",
       "      <td>4.0</td>\n",
       "    </tr>\n",
       "    <tr>\n",
       "      <th>2</th>\n",
       "      <td>5.8</td>\n",
       "      <td>2.5</td>\n",
       "      <td>4.0</td>\n",
       "    </tr>\n",
       "    <tr>\n",
       "      <th>3</th>\n",
       "      <td>5.7</td>\n",
       "      <td>1.1</td>\n",
       "      <td>4.0</td>\n",
       "    </tr>\n",
       "    <tr>\n",
       "      <th>4</th>\n",
       "      <td>3.0</td>\n",
       "      <td>7.5</td>\n",
       "      <td>5.0</td>\n",
       "    </tr>\n",
       "    <tr>\n",
       "      <th>...</th>\n",
       "      <td>...</td>\n",
       "      <td>...</td>\n",
       "      <td>...</td>\n",
       "    </tr>\n",
       "    <tr>\n",
       "      <th>361</th>\n",
       "      <td>8.2</td>\n",
       "      <td>0.8</td>\n",
       "      <td>4.0</td>\n",
       "    </tr>\n",
       "    <tr>\n",
       "      <th>362</th>\n",
       "      <td>9.3</td>\n",
       "      <td>0.2</td>\n",
       "      <td>4.0</td>\n",
       "    </tr>\n",
       "    <tr>\n",
       "      <th>363</th>\n",
       "      <td>11.4</td>\n",
       "      <td>1.5</td>\n",
       "      <td>3.0</td>\n",
       "    </tr>\n",
       "    <tr>\n",
       "      <th>364</th>\n",
       "      <td>6.9</td>\n",
       "      <td>NaN</td>\n",
       "      <td>4.0</td>\n",
       "    </tr>\n",
       "    <tr>\n",
       "      <th>365</th>\n",
       "      <td>NaN</td>\n",
       "      <td>NaN</td>\n",
       "      <td>1.0</td>\n",
       "    </tr>\n",
       "  </tbody>\n",
       "</table>\n",
       "<p>366 rows × 3 columns</p>\n",
       "</div>"
      ],
      "text/plain": [
       "     temperature_2m_max (°C)  precipitation_sum (mm)  res\n",
       "0                        7.5                     3.5  4.0\n",
       "1                        6.8                     4.1  4.0\n",
       "2                        5.8                     2.5  4.0\n",
       "3                        5.7                     1.1  4.0\n",
       "4                        3.0                     7.5  5.0\n",
       "..                       ...                     ...  ...\n",
       "361                      8.2                     0.8  4.0\n",
       "362                      9.3                     0.2  4.0\n",
       "363                     11.4                     1.5  3.0\n",
       "364                      6.9                     NaN  4.0\n",
       "365                      NaN                     NaN  1.0\n",
       "\n",
       "[366 rows x 3 columns]"
      ]
     },
     "execution_count": 83,
     "metadata": {},
     "output_type": "execute_result"
    }
   ],
   "source": [
    "df"
   ]
  },
  {
   "cell_type": "code",
   "execution_count": 4,
   "id": "665b1c6b-28b6-4743-a803-9f82f0e4ff91",
   "metadata": {},
   "outputs": [],
   "source": [
    "import tensorflow as tf"
   ]
  },
  {
   "cell_type": "code",
   "execution_count": 349,
   "id": "a208aa0e-fc88-42b1-b2f0-2cb96c918fa7",
   "metadata": {},
   "outputs": [],
   "source": [
    "df=pd.read_excel(\"havadurumu_yeni.xlsx\")"
   ]
  },
  {
   "cell_type": "code",
   "execution_count": 350,
   "id": "0b213b21-d297-496c-98ca-f671945e84d8",
   "metadata": {},
   "outputs": [],
   "source": [
    "for i, row in df.iterrows():\n",
    "    if row[\"temperature_2m_max (°C)\"]<=5:\n",
    "        row[\"res\"]=4\n",
    "    elif row[\"temperature_2m_max (°C)\"]<=10:\n",
    "        row[\"res\"]=3\n",
    "    elif row[\"temperature_2m_max (°C)\"]<=15:\n",
    "        row[\"res\"]=2\n",
    "    elif row[\"temperature_2m_max (°C)\"]<=20:\n",
    "        if row[\"precipitation_sum (mm)\"]>1:\n",
    "            row[\"res\"]=2\n",
    "        else:\n",
    "            row[\"res\"]=1\n",
    "    else:\n",
    "        if row[\"precipitation_sum (mm)\"]>1:\n",
    "            row[\"res\"]=2\n",
    "        else:\n",
    "            row[\"res\"]=0\n",
    "        "
   ]
  },
  {
   "cell_type": "code",
   "execution_count": 351,
   "id": "2121fdf5-0b91-46b6-a76f-5ccca9e6f8d2",
   "metadata": {},
   "outputs": [
    {
     "data": {
      "text/html": [
       "<div>\n",
       "<style scoped>\n",
       "    .dataframe tbody tr th:only-of-type {\n",
       "        vertical-align: middle;\n",
       "    }\n",
       "\n",
       "    .dataframe tbody tr th {\n",
       "        vertical-align: top;\n",
       "    }\n",
       "\n",
       "    .dataframe thead th {\n",
       "        text-align: right;\n",
       "    }\n",
       "</style>\n",
       "<table border=\"1\" class=\"dataframe\">\n",
       "  <thead>\n",
       "    <tr style=\"text-align: right;\">\n",
       "      <th></th>\n",
       "      <th>temperature_2m_max (°C)</th>\n",
       "      <th>precipitation_sum (mm)</th>\n",
       "      <th>res</th>\n",
       "    </tr>\n",
       "  </thead>\n",
       "  <tbody>\n",
       "    <tr>\n",
       "      <th>0</th>\n",
       "      <td>4.0</td>\n",
       "      <td>7.9</td>\n",
       "      <td>4.0</td>\n",
       "    </tr>\n",
       "    <tr>\n",
       "      <th>1</th>\n",
       "      <td>6.1</td>\n",
       "      <td>0.0</td>\n",
       "      <td>3.0</td>\n",
       "    </tr>\n",
       "    <tr>\n",
       "      <th>2</th>\n",
       "      <td>10.0</td>\n",
       "      <td>0.0</td>\n",
       "      <td>3.0</td>\n",
       "    </tr>\n",
       "    <tr>\n",
       "      <th>3</th>\n",
       "      <td>12.7</td>\n",
       "      <td>0.0</td>\n",
       "      <td>2.0</td>\n",
       "    </tr>\n",
       "    <tr>\n",
       "      <th>4</th>\n",
       "      <td>13.7</td>\n",
       "      <td>13.3</td>\n",
       "      <td>2.0</td>\n",
       "    </tr>\n",
       "    <tr>\n",
       "      <th>...</th>\n",
       "      <td>...</td>\n",
       "      <td>...</td>\n",
       "      <td>...</td>\n",
       "    </tr>\n",
       "    <tr>\n",
       "      <th>8395</th>\n",
       "      <td>9.5</td>\n",
       "      <td>0.9</td>\n",
       "      <td>3.0</td>\n",
       "    </tr>\n",
       "    <tr>\n",
       "      <th>8396</th>\n",
       "      <td>8.2</td>\n",
       "      <td>0.8</td>\n",
       "      <td>3.0</td>\n",
       "    </tr>\n",
       "    <tr>\n",
       "      <th>8397</th>\n",
       "      <td>9.3</td>\n",
       "      <td>0.2</td>\n",
       "      <td>3.0</td>\n",
       "    </tr>\n",
       "    <tr>\n",
       "      <th>8398</th>\n",
       "      <td>11.4</td>\n",
       "      <td>1.5</td>\n",
       "      <td>2.0</td>\n",
       "    </tr>\n",
       "    <tr>\n",
       "      <th>8399</th>\n",
       "      <td>6.9</td>\n",
       "      <td>NaN</td>\n",
       "      <td>3.0</td>\n",
       "    </tr>\n",
       "  </tbody>\n",
       "</table>\n",
       "<p>8400 rows × 3 columns</p>\n",
       "</div>"
      ],
      "text/plain": [
       "      temperature_2m_max (°C)  precipitation_sum (mm)  res\n",
       "0                         4.0                     7.9  4.0\n",
       "1                         6.1                     0.0  3.0\n",
       "2                        10.0                     0.0  3.0\n",
       "3                        12.7                     0.0  2.0\n",
       "4                        13.7                    13.3  2.0\n",
       "...                       ...                     ...  ...\n",
       "8395                      9.5                     0.9  3.0\n",
       "8396                      8.2                     0.8  3.0\n",
       "8397                      9.3                     0.2  3.0\n",
       "8398                     11.4                     1.5  2.0\n",
       "8399                      6.9                     NaN  3.0\n",
       "\n",
       "[8400 rows x 3 columns]"
      ]
     },
     "execution_count": 351,
     "metadata": {},
     "output_type": "execute_result"
    }
   ],
   "source": [
    "df"
   ]
  },
  {
   "cell_type": "code",
   "execution_count": 254,
   "id": "2d1f2ef1-a8fc-46be-93e3-7849a41f2579",
   "metadata": {
    "collapsed": true,
    "jupyter": {
     "outputs_hidden": true
    },
    "tags": []
   },
   "outputs": [
    {
     "data": {
      "text/html": [
       "<div>\n",
       "<style scoped>\n",
       "    .dataframe tbody tr th:only-of-type {\n",
       "        vertical-align: middle;\n",
       "    }\n",
       "\n",
       "    .dataframe tbody tr th {\n",
       "        vertical-align: top;\n",
       "    }\n",
       "\n",
       "    .dataframe thead th {\n",
       "        text-align: right;\n",
       "    }\n",
       "</style>\n",
       "<table border=\"1\" class=\"dataframe\">\n",
       "  <thead>\n",
       "    <tr style=\"text-align: right;\">\n",
       "      <th></th>\n",
       "      <th>temperature_2m_max (°C)</th>\n",
       "      <th>precipitation_sum (mm)</th>\n",
       "      <th>res</th>\n",
       "    </tr>\n",
       "  </thead>\n",
       "  <tbody>\n",
       "    <tr>\n",
       "      <th>0</th>\n",
       "      <td>4.0</td>\n",
       "      <td>7.9</td>\n",
       "      <td>0.5</td>\n",
       "    </tr>\n",
       "    <tr>\n",
       "      <th>1</th>\n",
       "      <td>6.1</td>\n",
       "      <td>0.5</td>\n",
       "      <td>0.5</td>\n",
       "    </tr>\n",
       "    <tr>\n",
       "      <th>2</th>\n",
       "      <td>10.0</td>\n",
       "      <td>0.5</td>\n",
       "      <td>0.5</td>\n",
       "    </tr>\n",
       "    <tr>\n",
       "      <th>3</th>\n",
       "      <td>12.7</td>\n",
       "      <td>0.5</td>\n",
       "      <td>0.5</td>\n",
       "    </tr>\n",
       "    <tr>\n",
       "      <th>4</th>\n",
       "      <td>13.7</td>\n",
       "      <td>13.3</td>\n",
       "      <td>0.5</td>\n",
       "    </tr>\n",
       "    <tr>\n",
       "      <th>...</th>\n",
       "      <td>...</td>\n",
       "      <td>...</td>\n",
       "      <td>...</td>\n",
       "    </tr>\n",
       "    <tr>\n",
       "      <th>8395</th>\n",
       "      <td>9.5</td>\n",
       "      <td>0.9</td>\n",
       "      <td>0.5</td>\n",
       "    </tr>\n",
       "    <tr>\n",
       "      <th>8396</th>\n",
       "      <td>8.2</td>\n",
       "      <td>0.8</td>\n",
       "      <td>0.5</td>\n",
       "    </tr>\n",
       "    <tr>\n",
       "      <th>8397</th>\n",
       "      <td>9.3</td>\n",
       "      <td>0.2</td>\n",
       "      <td>0.5</td>\n",
       "    </tr>\n",
       "    <tr>\n",
       "      <th>8398</th>\n",
       "      <td>11.4</td>\n",
       "      <td>1.5</td>\n",
       "      <td>0.5</td>\n",
       "    </tr>\n",
       "    <tr>\n",
       "      <th>8399</th>\n",
       "      <td>6.9</td>\n",
       "      <td>0.5</td>\n",
       "      <td>0.5</td>\n",
       "    </tr>\n",
       "  </tbody>\n",
       "</table>\n",
       "<p>8400 rows × 3 columns</p>\n",
       "</div>"
      ],
      "text/plain": [
       "      temperature_2m_max (°C)  precipitation_sum (mm)  res\n",
       "0                         4.0                     7.9  0.5\n",
       "1                         6.1                     0.5  0.5\n",
       "2                        10.0                     0.5  0.5\n",
       "3                        12.7                     0.5  0.5\n",
       "4                        13.7                    13.3  0.5\n",
       "...                       ...                     ...  ...\n",
       "8395                      9.5                     0.9  0.5\n",
       "8396                      8.2                     0.8  0.5\n",
       "8397                      9.3                     0.2  0.5\n",
       "8398                     11.4                     1.5  0.5\n",
       "8399                      6.9                     0.5  0.5\n",
       "\n",
       "[8400 rows x 3 columns]"
      ]
     },
     "execution_count": 254,
     "metadata": {},
     "output_type": "execute_result"
    }
   ],
   "source": [
    "df.replace(0,0.5).fillna(0.5)"
   ]
  },
  {
   "cell_type": "code",
   "execution_count": 352,
   "id": "dc1dab7c-0ab8-4d21-878a-0d3966337546",
   "metadata": {},
   "outputs": [],
   "source": [
    "## df to numpy array\n",
    "df_np_x = df.replace(0,0.5).fillna(0.5)[[\"temperature_2m_max (°C)\",\"precipitation_sum (mm)\"]].to_numpy()\n",
    "df_np_y = df.replace(0,0.5).fillna(0.5)[\"res\"].to_numpy()"
   ]
  },
  {
   "cell_type": "code",
   "execution_count": 353,
   "id": "3ef8f171-8ed3-4a42-86f5-f4de6d4d8762",
   "metadata": {
    "tags": []
   },
   "outputs": [
    {
     "data": {
      "text/plain": [
       "(8400, 2)"
      ]
     },
     "execution_count": 353,
     "metadata": {},
     "output_type": "execute_result"
    }
   ],
   "source": [
    "df_np_x.shape"
   ]
  },
  {
   "cell_type": "code",
   "execution_count": 354,
   "id": "65a26b1a-722e-4f8c-ba17-d0a8b1bffb4f",
   "metadata": {},
   "outputs": [
    {
     "data": {
      "text/plain": [
       "(8400,)"
      ]
     },
     "execution_count": 354,
     "metadata": {},
     "output_type": "execute_result"
    }
   ],
   "source": [
    "df_np_y.shape"
   ]
  },
  {
   "cell_type": "code",
   "execution_count": 355,
   "id": "dede818e-8d5a-4fc2-a71c-b4c8c5e1c097",
   "metadata": {},
   "outputs": [],
   "source": [
    "from sklearn.model_selection import train_test_split"
   ]
  },
  {
   "cell_type": "code",
   "execution_count": 479,
   "id": "0a62f09b-bad9-45c4-a7f8-2ada2a0667ca",
   "metadata": {},
   "outputs": [],
   "source": [
    "X_train, X_test, y_train, y_test = train_test_split(df_np_x, df_np_y, test_size=0.2, random_state=2)"
   ]
  },
  {
   "cell_type": "code",
   "execution_count": 480,
   "id": "a2ec5416-968e-4e2a-bea5-1891a20db243",
   "metadata": {},
   "outputs": [
    {
     "data": {
      "text/plain": [
       "(6720, 2)"
      ]
     },
     "execution_count": 480,
     "metadata": {},
     "output_type": "execute_result"
    }
   ],
   "source": [
    "X_train.shape"
   ]
  },
  {
   "cell_type": "code",
   "execution_count": 481,
   "id": "5baf5b6c-80da-4320-9046-9498d497291b",
   "metadata": {},
   "outputs": [
    {
     "data": {
      "text/plain": [
       "(1680, 2)"
      ]
     },
     "execution_count": 481,
     "metadata": {},
     "output_type": "execute_result"
    }
   ],
   "source": [
    "X_test.shape"
   ]
  },
  {
   "cell_type": "code",
   "execution_count": 5,
   "id": "21b4adef-2d02-4a9c-9e2d-64559b3eae3f",
   "metadata": {},
   "outputs": [],
   "source": [
    "from tensorflow import keras"
   ]
  },
  {
   "cell_type": "code",
   "execution_count": 517,
   "id": "61f298d3-790a-42ad-bb1f-974eadeeceea",
   "metadata": {},
   "outputs": [],
   "source": [
    "model = keras.Sequential([\n",
    "    keras.layers.Dense(64, input_shape=(2,), activation=\"relu\", kernel_initializer=\"ones\", bias_initializer=\"zeros\"),\n",
    "    keras.layers.Dense(64, activation=\"relu\"),\n",
    "    keras.layers.Dense(48, activation=\"relu\"),\n",
    "    keras.layers.Dense(32, activation=\"relu\"),\n",
    "    keras.layers.Dense(32, activation=\"relu\"),\n",
    "    keras.layers.Dense(24, activation=\"relu\"),\n",
    "    keras.layers.Dense(16, activation=\"relu\"),\n",
    "    keras.layers.Dense(16, activation=\"relu\"),\n",
    "    keras.layers.Dense(12, activation=\"relu\"),\n",
    "    keras.layers.Dense(8, activation=\"relu\"),\n",
    "    keras.layers.Dense(8, activation=\"relu\"),\n",
    "    keras.layers.Dense(6, activation=\"relu\"),\n",
    "    keras.layers.Dense(5, activation=\"softmax\")\n",
    "])\n",
    "\n",
    "model.compile(optimizer=\"adam\",\n",
    "             loss=\"sparse_categorical_crossentropy\",\n",
    "             metrics=[\"accuracy\"])"
   ]
  },
  {
   "cell_type": "code",
   "execution_count": 518,
   "id": "c86c2a30-2d6b-4940-87d5-5fb22c67d12c",
   "metadata": {},
   "outputs": [
    {
     "name": "stdout",
     "output_type": "stream",
     "text": [
      "Epoch 1/15\n"
     ]
    },
    {
     "name": "stderr",
     "output_type": "stream",
     "text": [
      "2023-03-11 17:06:32.594338: I tensorflow/core/grappler/optimizers/custom_graph_optimizer_registry.cc:113] Plugin optimizer for device_type GPU is enabled.\n"
     ]
    },
    {
     "name": "stdout",
     "output_type": "stream",
     "text": [
      "336/336 [==============================] - 5s 10ms/step - loss: 1.4746 - accuracy: 0.0371\n",
      "Epoch 2/15\n",
      "336/336 [==============================] - 3s 8ms/step - loss: 0.6886 - accuracy: 0.3996\n",
      "Epoch 3/15\n",
      "336/336 [==============================] - 3s 9ms/step - loss: 0.4762 - accuracy: 0.4664\n",
      "Epoch 4/15\n",
      "336/336 [==============================] - 3s 8ms/step - loss: 0.4113 - accuracy: 0.5015\n",
      "Epoch 5/15\n",
      "336/336 [==============================] - 3s 9ms/step - loss: 0.3525 - accuracy: 0.5338\n",
      "Epoch 6/15\n",
      "336/336 [==============================] - 3s 8ms/step - loss: 0.3481 - accuracy: 0.5351\n",
      "Epoch 7/15\n",
      "336/336 [==============================] - 3s 9ms/step - loss: 0.3199 - accuracy: 0.5491\n",
      "Epoch 8/15\n",
      "336/336 [==============================] - 3s 9ms/step - loss: 0.2986 - accuracy: 0.5490\n",
      "Epoch 9/15\n",
      "336/336 [==============================] - 3s 9ms/step - loss: 0.3062 - accuracy: 0.5429\n",
      "Epoch 10/15\n",
      "336/336 [==============================] - 3s 9ms/step - loss: 0.3043 - accuracy: 0.5420\n",
      "Epoch 11/15\n",
      "336/336 [==============================] - 3s 9ms/step - loss: 0.2857 - accuracy: 0.5555\n",
      "Epoch 12/15\n",
      "336/336 [==============================] - 3s 9ms/step - loss: 0.2981 - accuracy: 0.5552\n",
      "Epoch 13/15\n",
      "336/336 [==============================] - 3s 9ms/step - loss: 0.2872 - accuracy: 0.5551\n",
      "Epoch 14/15\n",
      "336/336 [==============================] - 3s 9ms/step - loss: 0.2599 - accuracy: 0.5609\n",
      "Epoch 15/15\n",
      "336/336 [==============================] - 3s 9ms/step - loss: 0.2882 - accuracy: 0.5563\n"
     ]
    },
    {
     "data": {
      "text/plain": [
       "<keras.callbacks.History at 0x2bba4c4f0>"
      ]
     },
     "execution_count": 518,
     "metadata": {},
     "output_type": "execute_result"
    }
   ],
   "source": [
    "model.fit(X_train,y_train, epochs=15, batch_size=20)"
   ]
  },
  {
   "cell_type": "code",
   "execution_count": 519,
   "id": "ec2bf443-5df6-47c5-aef1-9011510a7682",
   "metadata": {},
   "outputs": [
    {
     "name": "stderr",
     "output_type": "stream",
     "text": [
      "2023-03-11 17:07:20.606681: I tensorflow/core/grappler/optimizers/custom_graph_optimizer_registry.cc:113] Plugin optimizer for device_type GPU is enabled.\n"
     ]
    },
    {
     "name": "stdout",
     "output_type": "stream",
     "text": [
      "53/53 [==============================] - 1s 11ms/step - loss: 0.1934 - accuracy: 0.5732\n"
     ]
    },
    {
     "data": {
      "text/plain": [
       "[0.19344352185726166, 0.5732142925262451]"
      ]
     },
     "execution_count": 519,
     "metadata": {},
     "output_type": "execute_result"
    }
   ],
   "source": [
    "model.evaluate(X_test,y_test)"
   ]
  },
  {
   "cell_type": "code",
   "execution_count": 532,
   "id": "2e13ea6c-4c30-4264-a9f6-91af82efeb6c",
   "metadata": {
    "tags": []
   },
   "outputs": [
    {
     "name": "stdout",
     "output_type": "stream",
     "text": [
      "1/1 [==============================] - 0s 19ms/step\n"
     ]
    },
    {
     "data": {
      "text/plain": [
       "[2]"
      ]
     },
     "execution_count": 532,
     "metadata": {},
     "output_type": "execute_result"
    }
   ],
   "source": [
    "[np.argmax(e) for e in model.predict([[13,2.0]])]"
   ]
  },
  {
   "cell_type": "code",
   "execution_count": 340,
   "id": "cb68389a-6e78-402c-8679-5302b933d4ad",
   "metadata": {},
   "outputs": [
    {
     "name": "stdout",
     "output_type": "stream",
     "text": [
      "53/53 [==============================] - 0s 2ms/step\n"
     ]
    },
    {
     "data": {
      "text/plain": [
       "array([[3.0543580e-31, 3.2301606e-38, 7.2894704e-18, 5.0095762e-03,\n",
       "        9.9499041e-01],\n",
       "       [4.7885879e-07, 9.7106444e-03, 2.0848621e-01, 6.8199557e-01,\n",
       "        9.9807121e-02],\n",
       "       [4.2924148e-07, 2.6025636e-02, 2.8465086e-01, 6.4352947e-01,\n",
       "        4.5793653e-02],\n",
       "       ...,\n",
       "       [4.4348715e-07, 1.0136525e-02, 2.1100490e-01, 6.8697739e-01,\n",
       "        9.1880701e-02],\n",
       "       [2.7072474e-25, 2.1107521e-29, 1.2011408e-13, 3.0617779e-02,\n",
       "        9.6938223e-01],\n",
       "       [3.8833359e-06, 1.8890464e-07, 1.0743458e-03, 2.4250159e-01,\n",
       "        7.5642002e-01]], dtype=float32)"
      ]
     },
     "execution_count": 340,
     "metadata": {},
     "output_type": "execute_result"
    }
   ],
   "source": [
    "model.predict(X_test)"
   ]
  },
  {
   "cell_type": "code",
   "execution_count": 536,
   "id": "1db529e0-10e7-4b62-bc2f-c1311aec2849",
   "metadata": {},
   "outputs": [],
   "source": [
    "keras.models.save_model(model, 'model.h5')"
   ]
  },
  {
   "cell_type": "code",
   "execution_count": 6,
   "id": "adfbfed2-5b37-4ff3-99ef-70b2a2378eb5",
   "metadata": {},
   "outputs": [
    {
     "name": "stdout",
     "output_type": "stream",
     "text": [
      "Metal device set to: Apple M1\n"
     ]
    },
    {
     "name": "stderr",
     "output_type": "stream",
     "text": [
      "2023-03-11 18:25:04.434500: I tensorflow/core/common_runtime/pluggable_device/pluggable_device_factory.cc:305] Could not identify NUMA node of platform GPU ID 0, defaulting to 0. Your kernel may not have been built with NUMA support.\n",
      "2023-03-11 18:25:04.434975: I tensorflow/core/common_runtime/pluggable_device/pluggable_device_factory.cc:271] Created TensorFlow device (/job:localhost/replica:0/task:0/device:GPU:0 with 0 MB memory) -> physical PluggableDevice (device: 0, name: METAL, pci bus id: <undefined>)\n"
     ]
    }
   ],
   "source": [
    "new_m=keras.models.load_model(\"model.h5\")"
   ]
  },
  {
   "cell_type": "code",
   "execution_count": 16,
   "id": "8c3fa0bc-d066-40c9-9575-f5515ee67326",
   "metadata": {},
   "outputs": [],
   "source": [
    "# 0: it's hot you don't need to wear anything but tshirt\n",
    "# 1: wear something light\n",
    "# 2: wear raincoat\n",
    "# 3: it seems cold, wear coat\n",
    "# 4: it's freezing cold, bundle up\n",
    "\n",
    "dic={\"0\":\"çok sıcak üstüne bir şey almana gerek yok\", \"1\":\"üstüne ince bir şey al\",\n",
    "    \"2\":\"üstüne yağmurluk al\", \"3\":\"hava soğuk görünüyor üstüne mont al\", \"4\":\"hava buz gibi sıkı sıkı giyin\"}"
   ]
  },
  {
   "cell_type": "code",
   "execution_count": 7,
   "id": "8fccb93c-7c99-4476-9f6c-020bdbeb0982",
   "metadata": {},
   "outputs": [],
   "source": [
    "temperature=17\n",
    "precipitation=2"
   ]
  },
  {
   "cell_type": "code",
   "execution_count": 18,
   "id": "1a800337-263e-4a6e-87bf-476b5fa5c83d",
   "metadata": {},
   "outputs": [
    {
     "name": "stdout",
     "output_type": "stream",
     "text": [
      "1/1 [==============================] - 0s 17ms/step\n"
     ]
    }
   ],
   "source": [
    "pred = np.argmax(new_m.predict([[int(temperature),int(precipitation)]]))"
   ]
  },
  {
   "cell_type": "code",
   "execution_count": 19,
   "id": "e8c1d6a3-f112-44e5-8dc1-5ba352514c93",
   "metadata": {},
   "outputs": [
    {
     "data": {
      "text/plain": [
       "'üstüne yağmurluk al'"
      ]
     },
     "execution_count": 19,
     "metadata": {},
     "output_type": "execute_result"
    }
   ],
   "source": [
    "dic[f\"{pred}\".format(pred=pred)]"
   ]
  },
  {
   "cell_type": "code",
   "execution_count": 535,
   "id": "44eda0a5-09b5-45f1-a99c-6ddbcb3ebae4",
   "metadata": {},
   "outputs": [
    {
     "name": "stdout",
     "output_type": "stream",
     "text": [
      "Model: \"sequential_69\"\n",
      "_________________________________________________________________\n",
      " Layer (type)                Output Shape              Param #   \n",
      "=================================================================\n",
      " dense_318 (Dense)           (None, 64)                192       \n",
      "                                                                 \n",
      " dense_319 (Dense)           (None, 64)                4160      \n",
      "                                                                 \n",
      " dense_320 (Dense)           (None, 48)                3120      \n",
      "                                                                 \n",
      " dense_321 (Dense)           (None, 32)                1568      \n",
      "                                                                 \n",
      " dense_322 (Dense)           (None, 32)                1056      \n",
      "                                                                 \n",
      " dense_323 (Dense)           (None, 24)                792       \n",
      "                                                                 \n",
      " dense_324 (Dense)           (None, 16)                400       \n",
      "                                                                 \n",
      " dense_325 (Dense)           (None, 16)                272       \n",
      "                                                                 \n",
      " dense_326 (Dense)           (None, 12)                204       \n",
      "                                                                 \n",
      " dense_327 (Dense)           (None, 8)                 104       \n",
      "                                                                 \n",
      " dense_328 (Dense)           (None, 8)                 72        \n",
      "                                                                 \n",
      " dense_329 (Dense)           (None, 6)                 54        \n",
      "                                                                 \n",
      " dense_330 (Dense)           (None, 5)                 35        \n",
      "                                                                 \n",
      "=================================================================\n",
      "Total params: 12,029\n",
      "Trainable params: 12,029\n",
      "Non-trainable params: 0\n",
      "_________________________________________________________________\n"
     ]
    }
   ],
   "source": [
    "model.summary()"
   ]
  }
 ],
 "metadata": {
  "kernelspec": {
   "display_name": "Python 3 (ipykernel)",
   "language": "python",
   "name": "python3"
  },
  "language_info": {
   "codemirror_mode": {
    "name": "ipython",
    "version": 3
   },
   "file_extension": ".py",
   "mimetype": "text/x-python",
   "name": "python",
   "nbconvert_exporter": "python",
   "pygments_lexer": "ipython3",
   "version": "3.9.15"
  }
 },
 "nbformat": 4,
 "nbformat_minor": 5
}
